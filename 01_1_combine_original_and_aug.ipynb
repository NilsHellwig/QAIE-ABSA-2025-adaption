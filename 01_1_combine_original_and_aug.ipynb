{
 "cells": [
  {
   "cell_type": "code",
   "execution_count": 4,
   "metadata": {},
   "outputs": [],
   "source": [
    "for task in [\"tasd\", \"asqp\"]:\n",
    "    for dataset in [\"rest15\", \"rest16\", \"flightabsa\", \"coursera\", \"hotels\"]:\n",
    "        for fs in [10, 50]:\n",
    "            original_fs_path = f\"../zero-shot-absa-quad/fs_examples/{task}/{dataset}/fs_{fs}/examples.txt\"\n",
    "            original_fs_im_path = f\"./01_augmentations/fs_examples/{task}/{dataset}/fs_{fs}/fs_im.txt\"\n",
    "            \n",
    "            fs_aug_path = f\"./01_augmentations/fs_examples/{task}/{dataset}/fs_{fs}/aug.txt\"\n",
    "            fs_aug_im_path = f\"./01_augmentations/fs_examples/{task}/{dataset}/fs_{fs}/aug_im.txt\"\n",
    "            \n",
    "            # add lines of original_fs_path to fs_aug_path at the end of txt\n",
    "            with open(original_fs_path, \"r\") as original_fs_file:\n",
    "                original_fs_lines = original_fs_file.readlines()\n",
    "            with open(fs_aug_path, \"a\") as fs_aug_file:\n",
    "                fs_aug_file.writelines(original_fs_lines)\n",
    "            # add lines of original_fs_im_path to fs_aug_im_path at the end of txt\n",
    "            with open(original_fs_im_path, \"r\") as original_fs_im_file:\n",
    "                original_fs_im_lines = original_fs_im_file.readlines()\n",
    "            with open(fs_aug_im_path, \"a\") as fs_aug_im_file:\n",
    "                fs_aug_im_file.writelines(original_fs_im_lines)\n"
   ]
  }
 ],
 "metadata": {
  "kernelspec": {
   "display_name": "env_nils_hellwig",
   "language": "python",
   "name": "python3"
  },
  "language_info": {
   "codemirror_mode": {
    "name": "ipython",
    "version": 3
   },
   "file_extension": ".py",
   "mimetype": "text/x-python",
   "name": "python",
   "nbconvert_exporter": "python",
   "pygments_lexer": "ipython3",
   "version": "3.11.10"
  }
 },
 "nbformat": 4,
 "nbformat_minor": 2
}
